{
 "cells": [
  {
   "cell_type": "markdown",
   "id": "925af1a4-d1dc-4287-9aa6-21439b125b09",
   "metadata": {},
   "source": [
    "## TODO List:\n",
    "\n",
    "1. Get funding\n",
    "2. Do work.\n",
    "3. Collect data.\n",
    "4. Analyze data."
   ]
  },
  {
   "cell_type": "code",
   "execution_count": 1,
   "id": "570c29ee-0d6d-4ce2-8967-cc2fd6087684",
   "metadata": {},
   "outputs": [
    {
     "name": "stdout",
     "output_type": "stream",
     "text": [
      "259\n"
     ]
    }
   ],
   "source": [
    "x = 7 * 37\n",
    "print(x)"
   ]
  },
  {
   "cell_type": "code",
   "execution_count": 2,
   "id": "1d6df442-0095-4438-88b8-5626a50f48f7",
   "metadata": {},
   "outputs": [
    {
     "data": {
      "text/plain": [
       "289"
      ]
     },
     "execution_count": 2,
     "metadata": {},
     "output_type": "execute_result"
    }
   ],
   "source": [
    "x + 30"
   ]
  },
  {
   "cell_type": "code",
   "execution_count": 3,
   "id": "69a7a504-ba4a-4ccc-ab61-3cd83f39204d",
   "metadata": {},
   "outputs": [
    {
     "ename": "NameError",
     "evalue": "name 'X' is not defined",
     "output_type": "error",
     "traceback": [
      "\u001b[0;31m---------------------------------------------------------------------------\u001b[0m",
      "\u001b[0;31mNameError\u001b[0m                                 Traceback (most recent call last)",
      "Cell \u001b[0;32mIn[3], line 1\u001b[0m\n\u001b[0;32m----> 1\u001b[0m \u001b[43mX\u001b[49m \u001b[38;5;241m+\u001b[39m \u001b[38;5;241m30\u001b[39m\n",
      "\u001b[0;31mNameError\u001b[0m: name 'X' is not defined"
     ]
    }
   ],
   "source": [
    "X + 30"
   ]
  },
  {
   "cell_type": "code",
   "execution_count": 4,
   "id": "16d36a0f-cf9a-4a41-b8db-d40dc0dc62a2",
   "metadata": {},
   "outputs": [
    {
     "name": "stdout",
     "output_type": "stream",
     "text": [
      "Allen is 29 years old\n"
     ]
    }
   ],
   "source": [
    "first_name = 'Allen'\n",
    "age = 29\n",
    "print(first_name, 'is', age, 'years old')"
   ]
  },
  {
   "cell_type": "code",
   "execution_count": 7,
   "id": "ae336feb-a354-454e-95f2-92cd2b5efc3e",
   "metadata": {},
   "outputs": [
    {
     "name": "stdout",
     "output_type": "stream",
     "text": [
      "Lee\n"
     ]
    }
   ],
   "source": [
    "print(last_name)"
   ]
  },
  {
   "cell_type": "code",
   "execution_count": 6,
   "id": "fbfe14ae-dab7-49c5-a042-83932fd8de6c",
   "metadata": {},
   "outputs": [],
   "source": [
    "last_name = 'Lee'"
   ]
  },
  {
   "cell_type": "code",
   "execution_count": 8,
   "id": "f8940b87-0742-4b75-ae9d-b88cf26e178a",
   "metadata": {},
   "outputs": [],
   "source": [
    "element = 'helium'"
   ]
  },
  {
   "cell_type": "code",
   "execution_count": 9,
   "id": "b4c49594-ddf5-4ed6-81b4-83e7a6bb2bdb",
   "metadata": {},
   "outputs": [
    {
     "data": {
      "text/plain": [
       "'h'"
      ]
     },
     "execution_count": 9,
     "metadata": {},
     "output_type": "execute_result"
    }
   ],
   "source": [
    "element[0]"
   ]
  },
  {
   "cell_type": "code",
   "execution_count": 10,
   "id": "6c2b3fe9-8d3b-4601-a1ca-2b2b66744031",
   "metadata": {},
   "outputs": [
    {
     "data": {
      "text/plain": [
       "'i'"
      ]
     },
     "execution_count": 10,
     "metadata": {},
     "output_type": "execute_result"
    }
   ],
   "source": [
    "element[3]"
   ]
  },
  {
   "cell_type": "code",
   "execution_count": 17,
   "id": "7859b19f-81ee-4555-8570-a351ea0272f3",
   "metadata": {},
   "outputs": [],
   "source": [
    "atom_name = 'sodium benzoate and other things'"
   ]
  },
  {
   "cell_type": "code",
   "execution_count": 13,
   "id": "cd5a192c-3c04-459a-9fbc-74a28f57e9cd",
   "metadata": {},
   "outputs": [
    {
     "data": {
      "text/plain": [
       "'ium'"
      ]
     },
     "execution_count": 13,
     "metadata": {},
     "output_type": "execute_result"
    }
   ],
   "source": [
    "atom_name[3:]"
   ]
  },
  {
   "cell_type": "code",
   "execution_count": 18,
   "id": "1c0eae2a-f2a7-4354-a8f6-e04df4a8c0df",
   "metadata": {},
   "outputs": [
    {
     "data": {
      "text/plain": [
       "'ium benzoate and other things'"
      ]
     },
     "execution_count": 18,
     "metadata": {},
     "output_type": "execute_result"
    }
   ],
   "source": [
    "atom_name[3:len(atom_name)]"
   ]
  },
  {
   "cell_type": "code",
   "execution_count": 24,
   "id": "e9783df8-b3b3-45e3-bc00-aa69eed2cca5",
   "metadata": {},
   "outputs": [
    {
     "name": "stdout",
     "output_type": "stream",
     "text": [
      "[10]\n"
     ]
    }
   ],
   "source": [
    "initial = [1020]\n",
    "position = initial\n",
    "initial[0] = 10\n",
    "print(position)"
   ]
  },
  {
   "cell_type": "code",
   "execution_count": 29,
   "id": "2d6604cd-6732-4eeb-8c2f-4c282eae0698",
   "metadata": {},
   "outputs": [
    {
     "data": {
      "text/plain": [
       "'456'"
      ]
     },
     "execution_count": 29,
     "metadata": {},
     "output_type": "execute_result"
    }
   ],
   "source": [
    "a = 123456\n",
    "string_version_of_a = '\"123456\"'\n",
    "a_str = str(a)\n",
    "a_str[3:]\n"
   ]
  },
  {
   "cell_type": "code",
   "execution_count": 40,
   "id": "18e53983-3e49-4359-a4d8-3bc6505c741c",
   "metadata": {},
   "outputs": [
    {
     "data": {
      "text/plain": [
       "str"
      ]
     },
     "execution_count": 40,
     "metadata": {},
     "output_type": "execute_result"
    }
   ],
   "source": [
    "string_version = \"123456\"\n",
    "type('125')\n"
   ]
  },
  {
   "cell_type": "code",
   "execution_count": null,
   "id": "cc82456f-5ae3-4d7e-bf4c-d78577c760ef",
   "metadata": {},
   "outputs": [],
   "source": [
    "species_name = \"Acacia buxifolia\"\n",
    "What would these expressions return?\n",
    "\n",
    "species_name[2:8]\n",
    "species_name[11:] (without a value after the colon)\n",
    "species_name[:4] (without a value before the colon)\n",
    "species_name[:] (just a colon)\n",
    "species_name[11:-3]\n",
    "species_name[-5:-3]\n",
    "What happens when you choose a stop value which is out of range? (i.e., try species_name[0:20] or species_name[:103])"
   ]
  }
 ],
 "metadata": {
  "kernelspec": {
   "display_name": "Python 3 (ipykernel)",
   "language": "python",
   "name": "python3"
  },
  "language_info": {
   "codemirror_mode": {
    "name": "ipython",
    "version": 3
   },
   "file_extension": ".py",
   "mimetype": "text/x-python",
   "name": "python",
   "nbconvert_exporter": "python",
   "pygments_lexer": "ipython3",
   "version": "3.10.12"
  }
 },
 "nbformat": 4,
 "nbformat_minor": 5
}
